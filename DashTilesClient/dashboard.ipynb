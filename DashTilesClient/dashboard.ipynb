{
 "cells": [
  {
   "cell_type": "code",
   "execution_count": 8,
   "metadata": {},
   "outputs": [],
   "source": [
    "import requests\n",
    "import pandas as pd\n",
    "\n",
    "from PIL import Image\n",
    "import io\n",
    "import numpy as np\n",
    "import cv2\n",
    "import matplotlib.pyplot as plt"
   ]
  },
  {
   "cell_type": "code",
   "execution_count": 9,
   "metadata": {},
   "outputs": [],
   "source": [
    "def available_datasets(base_url):\n",
    "    \"\"\"\n",
    "    Lists available urls to requests different scans\n",
    "    input: root url pointing to the scan tiles provider\n",
    "    output: datasets ids\n",
    "    \"\"\"    \n",
    "    band_key = \"band_id\"\n",
    "    response = requests.get(base_url+\"/datasets\") \n",
    "    \n",
    "    datasets = response.json()[\"datasets\"]\n",
    "    datasets_df = pd.DataFrame.from_dict(datasets).drop(columns=band_key).drop_duplicates()\n",
    "    datasets_ids = datasets_df.apply(lambda p:\"/\".join(p),axis=1)\n",
    "    \n",
    "    return datasets_ids\n",
    "\n",
    "class TerraScan():\n",
    "    def __init__(self,base_url,scan_id):\n",
    "        \n",
    "        self.scan_id = scan_id\n",
    "        self.base_url = base_url\n",
    "        self.rgb_suffix =\"/{z}/{x}/{y}.png?r=band2&g=band1&b=band0\"\n",
    "        self.metadata = self._get_metadata()\n",
    "        self.preview = self._get_preview()\n",
    "    \n",
    "    def _get_metadata(self):\n",
    "        url = self.base_url+\"/metadata/\"+self.scan_id+\"/band0\"\n",
    "        response = requests.get(url).json()\n",
    "        return response\n",
    "    \n",
    "    def _get_preview(self):\n",
    "        url = self.base_url+\"/singleband/\"+self.scan_id+\"/band0/preview.png?tile_size=[128,128]\"\n",
    "        bytes_image = requests.get(url).content\n",
    "        image = Image.open(io.BytesIO(bytes_image))\n",
    "        return image\n",
    "    \n",
    "    @property\n",
    "    def png_tile(self):\n",
    "        url = self.base_url+\"/rgb/\"+self.scan_id+self.rgb_suffix\n",
    "        return url\n",
    "    def __repr__(self):\n",
    "        return f\"TerraScan({self.scan_id})\""
   ]
  },
  {
   "cell_type": "code",
   "execution_count": 10,
   "metadata": {},
   "outputs": [],
   "source": [
    "import plotly.graph_objects as go\n",
    "\n",
    "def dev_graph(preview):\n",
    "    \n",
    "    # Create figure\n",
    "    fig = go.Figure()\n",
    "    x_dots = preview.width*np.random.rand(10)*0.8\n",
    "    y_dots = preview.height*np.random.rand(10)*0.8\n",
    "    # Add trace\n",
    "    fig.add_trace(\n",
    "        go.Scatter(x=x_dots, y=y_dots,mode='markers',\n",
    "                  marker=dict(color=np.random.randn(10),\n",
    "                              colorscale='Viridis',\n",
    "                              line_width=1,\n",
    "                              size=7))\n",
    "    )\n",
    "\n",
    "    # Add images\n",
    "    fig.add_layout_image(\n",
    "            dict(\n",
    "                source=preview,\n",
    "                xref=\"x\",\n",
    "                yref=\"y\",\n",
    "                x=0,\n",
    "                y=preview.height,\n",
    "                sizex=preview.width,\n",
    "                sizey=preview.height,\n",
    "                layer=\"below\")\n",
    "    )\n",
    "\n",
    "    # Set templates\n",
    "\n",
    "    fig.update_layout(\n",
    "        template=\"plotly_white\",\n",
    "        autosize=False,\n",
    "        height=preview.height,\n",
    "        width=preview.width,\n",
    "        margin=dict(r=0, l=0, b=0, t=0))\n",
    "    fig.update_xaxes(showgrid=False,visible=False,range=[0, preview.width])\n",
    "    fig.update_yaxes(showgrid=False,visible=False,range=[0, preview.height])\n",
    "\n",
    "    return fig"
   ]
  },
  {
   "cell_type": "code",
   "execution_count": 11,
   "metadata": {},
   "outputs": [],
   "source": [
    "def build_map_dropdown():\n",
    "    layout = dbc.InputGroup([\n",
    "                dbc.InputGroupAddon(\"Tissue slice id\", addon_type=\"prepend\"),\n",
    "                dbc.Select(\n",
    "                        id='map-dropdown',\n",
    "                        options=[{'label': scan_id, 'value': scan_id} for scan_id,_ in datasets.items()],\n",
    "                        value=list(datasets.keys())[0]\n",
    "                        ),\n",
    "                \n",
    "    ])\n",
    "    \n",
    "    return layout"
   ]
  },
  {
   "cell_type": "code",
   "execution_count": null,
   "metadata": {},
   "outputs": [],
   "source": []
  },
  {
   "cell_type": "code",
   "execution_count": null,
   "metadata": {},
   "outputs": [
    {
     "name": "stdout",
     "output_type": "stream",
     "text": [
      "Dash is running on http://127.0.0.1:8050/\n",
      "\n",
      " * Serving Flask app \"__main__\" (lazy loading)\n",
      " * Environment: production\n",
      "\u001b[31m   WARNING: This is a development server. Do not use it in a production deployment.\u001b[0m\n",
      "\u001b[2m   Use a production WSGI server instead.\u001b[0m\n",
      " * Debug mode: off\n"
     ]
    },
    {
     "name": "stderr",
     "output_type": "stream",
     "text": [
      " * Running on http://127.0.0.1:8050/ (Press CTRL+C to quit)\n",
      "127.0.0.1 - - [03/Apr/2021 15:12:23] \"\u001b[37mGET / HTTP/1.1\u001b[0m\" 200 -\n",
      "127.0.0.1 - - [03/Apr/2021 15:12:26] \"\u001b[37mGET /_favicon.ico?v=1.16.1 HTTP/1.1\u001b[0m\" 200 -\n",
      "127.0.0.1 - - [03/Apr/2021 15:12:26] \"\u001b[37mGET /_dash-layout HTTP/1.1\u001b[0m\" 200 -\n",
      "127.0.0.1 - - [03/Apr/2021 15:12:26] \"\u001b[37mGET /_dash-dependencies HTTP/1.1\u001b[0m\" 200 -\n",
      "127.0.0.1 - - [03/Apr/2021 15:12:27] \"\u001b[37mPOST /_dash-update-component HTTP/1.1\u001b[0m\" 204 -\n",
      "127.0.0.1 - - [03/Apr/2021 15:12:27] \"\u001b[37mPOST /_dash-update-component HTTP/1.1\u001b[0m\" 200 -\n",
      "127.0.0.1 - - [03/Apr/2021 15:12:28] \"\u001b[37mPOST /_dash-update-component HTTP/1.1\u001b[0m\" 200 -\n",
      "127.0.0.1 - - [03/Apr/2021 15:13:04] \"\u001b[37mPOST /_dash-update-component HTTP/1.1\u001b[0m\" 200 -\n",
      "127.0.0.1 - - [03/Apr/2021 15:13:05] \"\u001b[37mPOST /_dash-update-component HTTP/1.1\u001b[0m\" 200 -\n",
      "127.0.0.1 - - [03/Apr/2021 15:13:07] \"\u001b[37mPOST /_dash-update-component HTTP/1.1\u001b[0m\" 200 -\n",
      "127.0.0.1 - - [03/Apr/2021 15:13:08] \"\u001b[37mPOST /_dash-update-component HTTP/1.1\u001b[0m\" 200 -\n",
      "127.0.0.1 - - [03/Apr/2021 15:13:09] \"\u001b[37mPOST /_dash-update-component HTTP/1.1\u001b[0m\" 200 -\n",
      "127.0.0.1 - - [03/Apr/2021 15:13:11] \"\u001b[37mPOST /_dash-update-component HTTP/1.1\u001b[0m\" 200 -\n",
      "127.0.0.1 - - [03/Apr/2021 15:13:12] \"\u001b[37mPOST /_dash-update-component HTTP/1.1\u001b[0m\" 200 -\n",
      "127.0.0.1 - - [03/Apr/2021 15:13:13] \"\u001b[37mPOST /_dash-update-component HTTP/1.1\u001b[0m\" 200 -\n",
      "127.0.0.1 - - [03/Apr/2021 15:13:14] \"\u001b[37mPOST /_dash-update-component HTTP/1.1\u001b[0m\" 200 -\n",
      "127.0.0.1 - - [03/Apr/2021 15:13:16] \"\u001b[37mPOST /_dash-update-component HTTP/1.1\u001b[0m\" 200 -\n",
      "127.0.0.1 - - [03/Apr/2021 15:13:43] \"\u001b[37mPOST /_dash-update-component HTTP/1.1\u001b[0m\" 200 -\n",
      "127.0.0.1 - - [03/Apr/2021 15:13:46] \"\u001b[37mPOST /_dash-update-component HTTP/1.1\u001b[0m\" 200 -\n",
      "127.0.0.1 - - [03/Apr/2021 15:13:54] \"\u001b[37mPOST /_dash-update-component HTTP/1.1\u001b[0m\" 200 -\n",
      "127.0.0.1 - - [03/Apr/2021 15:14:08] \"\u001b[37mPOST /_dash-update-component HTTP/1.1\u001b[0m\" 200 -\n",
      "127.0.0.1 - - [03/Apr/2021 15:14:22] \"\u001b[37mPOST /_dash-update-component HTTP/1.1\u001b[0m\" 200 -\n",
      "127.0.0.1 - - [03/Apr/2021 15:14:28] \"\u001b[37mPOST /_dash-update-component HTTP/1.1\u001b[0m\" 200 -\n",
      "127.0.0.1 - - [03/Apr/2021 15:14:30] \"\u001b[37mPOST /_dash-update-component HTTP/1.1\u001b[0m\" 200 -\n",
      "127.0.0.1 - - [03/Apr/2021 15:14:35] \"\u001b[37mPOST /_dash-update-component HTTP/1.1\u001b[0m\" 200 -\n",
      "127.0.0.1 - - [03/Apr/2021 15:14:36] \"\u001b[37mPOST /_dash-update-component HTTP/1.1\u001b[0m\" 200 -\n",
      "127.0.0.1 - - [03/Apr/2021 15:14:39] \"\u001b[37mPOST /_dash-update-component HTTP/1.1\u001b[0m\" 200 -\n",
      "127.0.0.1 - - [03/Apr/2021 15:14:41] \"\u001b[37mPOST /_dash-update-component HTTP/1.1\u001b[0m\" 200 -\n"
     ]
    }
   ],
   "source": [
    "import dash_html_components as html\n",
    "import dash_core_components as dcc\n",
    "import dash_bootstrap_components as dbc\n",
    "import dash_leaflet as dl\n",
    "import dash\n",
    "from dash.dependencies import Input, Output, State\n",
    "import json\n",
    "\n",
    "\n",
    "attribution = 'Nanostring DSP'\n",
    "\n",
    "base_url = \"http://localhost:5000\"\n",
    "datasets_ids = available_datasets(base_url)\n",
    "datasets = {data_id:TerraScan(base_url,data_id) for data_id in datasets_ids}\n",
    "\n",
    "# Create app.\n",
    "app = dash.Dash(external_stylesheets=[dbc.themes.SANDSTONE])\n",
    "app.layout = html.Div([\n",
    "    \n",
    "    html.Div([\n",
    "        dl.Map(id='map',zoom=11,minZoom=6,\n",
    "               style={'width': '100%', 'height': '70vh'}\n",
    "              ),\n",
    "        dcc.Graph(id='preview-graph',config = {'displayModeBar': False}\n",
    "                 ),\n",
    "    ],className='col-md-6'),\n",
    "    \n",
    "    html.Div([\n",
    "        build_map_dropdown(),\n",
    "        dbc.Tabs(id='aggregation-tab',\n",
    "                 active_tab='global',\n",
    "                 children=[\n",
    "                          dbc.Tab(label=\"Global\", tab_id=\"global\"),\n",
    "                          dbc.Tab(label=\"ROI\", tab_id=\"roi\"),\n",
    "                 ]),\n",
    "        html.Div(id='tab-content')\n",
    "        ],className='col-md-6'),\n",
    "    \n",
    "    ],className='row')\n",
    "\n",
    "@app.callback(\n",
    "    [Output(component_id='map', component_property='children'),\n",
    "     Output(component_id='map', component_property='center'),\n",
    "     Output(component_id='preview-graph',component_property='figure')],\n",
    "    Input(component_id='map-dropdown', component_property='value')\n",
    ")\n",
    "def switch_scan(scan_id):\n",
    "    scan = datasets[scan_id]\n",
    "    \n",
    "    children = [dl.TileLayer(url=scan.png_tile, maxZoom=20, attribution=attribution)]\n",
    "    x0,y0,x1,y1 = scan.metadata[\"bounds\"]\n",
    "    center = ( (y1-y0)/2 , (x1-x0)/2 ) \n",
    "    fig = dev_graph(scan.preview)\n",
    "    \n",
    "    return children,center,fig\n",
    "\n",
    "@app.callback(\n",
    "    Output('tab-content', 'children'),\n",
    "    Input('aggregation-tab', 'active_tab'))\n",
    "def switch_tabs(tab_value):\n",
    "    if tab_value=='roi':\n",
    "        return \"Selected ROI\"\n",
    "    if tab_value=='global':\n",
    "        return \"Selected global\"\n",
    "    \n",
    "\n",
    "@app.callback(\n",
    "    [Output('map', 'center'),\n",
    "    Output('map','zoom')],\n",
    "    Input('preview-graph', 'clickData'),\n",
    "    State('map-dropdown','value'))\n",
    "def test_scatter(clickData,scan_id):\n",
    "    if not clickData:\n",
    "        return dash.no_update\n",
    "    \n",
    "    lon0,lat0,lon1,lat1 = datasets[scan_id].metadata[\"bounds\"]\n",
    "    lon_range = lon1-lon0\n",
    "    lat_range = lat1-lat0\n",
    "    \n",
    "    coordinates = clickData[\"points\"][0]\n",
    "    x,y = coordinates[\"x\"],coordinates[\"y\"]\n",
    "    lon = (x/128)*lon_range\n",
    "    lat = (y/128)*lat_range\n",
    "    center = (lat,lon)\n",
    "    zoom = 12\n",
    "    return center,zoom\n",
    "\n",
    "\n",
    "if __name__ == '__main__':\n",
    "    app.run_server()"
   ]
  },
  {
   "cell_type": "code",
   "execution_count": null,
   "metadata": {},
   "outputs": [],
   "source": []
  },
  {
   "cell_type": "code",
   "execution_count": null,
   "metadata": {},
   "outputs": [],
   "source": [
    "a"
   ]
  },
  {
   "cell_type": "code",
   "execution_count": 1,
   "metadata": {},
   "outputs": [],
   "source": [
    "import json"
   ]
  },
  {
   "cell_type": "code",
   "execution_count": 3,
   "metadata": {},
   "outputs": [
    {
     "data": {
      "text/plain": [
       "'{\"0\": [255, 255, 255]}'"
      ]
     },
     "execution_count": 3,
     "metadata": {},
     "output_type": "execute_result"
    }
   ],
   "source": [
    "json.dumps({0: (255, 255, 255)})"
   ]
  },
  {
   "cell_type": "code",
   "execution_count": null,
   "metadata": {},
   "outputs": [],
   "source": [
    "from PIL import Image"
   ]
  },
  {
   "cell_type": "code",
   "execution_count": 6,
   "metadata": {},
   "outputs": [],
   "source": [
    "base_url = \"http://localhost:5000\"\n",
    "datasets_ids = available_datasets(base_url)\n",
    "datasets = {data_id:TerraScan(base_url,data_id) for data_id in datasets_ids}"
   ]
  },
  {
   "cell_type": "code",
   "execution_count": 9,
   "metadata": {},
   "outputs": [
    {
     "data": {
      "text/plain": [
       "128"
      ]
     },
     "execution_count": 9,
     "metadata": {},
     "output_type": "execute_result"
    }
   ],
   "source": [
    "list(datasets.values())[0].preview.height"
   ]
  },
  {
   "cell_type": "code",
   "execution_count": 11,
   "metadata": {},
   "outputs": [
    {
     "data": {
      "text/plain": [
       "128"
      ]
     },
     "execution_count": 11,
     "metadata": {},
     "output_type": "execute_result"
    }
   ],
   "source": [
    "list(datasets.values())[0].preview.width"
   ]
  },
  {
   "cell_type": "code",
   "execution_count": 1,
   "metadata": {},
   "outputs": [],
   "source": [
    "import dash_bootstrap_components as dbc"
   ]
  },
  {
   "cell_type": "code",
   "execution_count": 5,
   "metadata": {},
   "outputs": [
    {
     "data": {
      "text/plain": [
       "['BOOTSTRAP',\n",
       " 'CERULEAN',\n",
       " 'COSMO',\n",
       " 'CYBORG',\n",
       " 'DARKLY',\n",
       " 'FLATLY',\n",
       " 'GRID',\n",
       " 'JOURNAL',\n",
       " 'LITERA',\n",
       " 'LUMEN',\n",
       " 'LUX',\n",
       " 'MATERIA',\n",
       " 'MINTY',\n",
       " 'PULSE',\n",
       " 'SANDSTONE',\n",
       " 'SIMPLEX',\n",
       " 'SKETCHY',\n",
       " 'SLATE',\n",
       " 'SOLAR',\n",
       " 'SPACELAB',\n",
       " 'SUPERHERO',\n",
       " 'UNITED',\n",
       " 'YETI',\n",
       " '_BOOTSWATCH_BASE',\n",
       " '__builtins__',\n",
       " '__cached__',\n",
       " '__doc__',\n",
       " '__file__',\n",
       " '__loader__',\n",
       " '__name__',\n",
       " '__package__',\n",
       " '__spec__']"
      ]
     },
     "execution_count": 5,
     "metadata": {},
     "output_type": "execute_result"
    }
   ],
   "source": [
    "dir(dbc.themes)"
   ]
  },
  {
   "cell_type": "code",
   "execution_count": 1,
   "metadata": {},
   "outputs": [],
   "source": [
    "import dash_html_components as html\n",
    "import dash_core_components as dcc\n",
    "import dash_bootstrap_components as dbc\n",
    "import dash_leaflet as dl\n",
    "import dash\n",
    "from dash.dependencies import Input, Output, State\n",
    "import json"
   ]
  },
  {
   "cell_type": "code",
   "execution_count": 1,
   "metadata": {},
   "outputs": [],
   "source": [
    "import dash_leaflet as dl"
   ]
  },
  {
   "cell_type": "code",
   "execution_count": 7,
   "metadata": {},
   "outputs": [
    {
     "data": {
      "text/plain": [
       "['REQUIRED',\n",
       " 'UNDEFINED',\n",
       " '_REQUIRED',\n",
       " '_UNDEFINED',\n",
       " '__abstractmethods__',\n",
       " '__class__',\n",
       " '__delattr__',\n",
       " '__delitem__',\n",
       " '__dict__',\n",
       " '__dir__',\n",
       " '__doc__',\n",
       " '__eq__',\n",
       " '__format__',\n",
       " '__ge__',\n",
       " '__getattribute__',\n",
       " '__getitem__',\n",
       " '__gt__',\n",
       " '__hash__',\n",
       " '__init__',\n",
       " '__init_subclass__',\n",
       " '__iter__',\n",
       " '__le__',\n",
       " '__len__',\n",
       " '__lt__',\n",
       " '__module__',\n",
       " '__ne__',\n",
       " '__new__',\n",
       " '__reduce__',\n",
       " '__reduce_ex__',\n",
       " '__repr__',\n",
       " '__setattr__',\n",
       " '__setitem__',\n",
       " '__sizeof__',\n",
       " '__str__',\n",
       " '__subclasshook__',\n",
       " '__weakref__',\n",
       " '_abc_impl',\n",
       " '_css_dist',\n",
       " '_get_set_or_delete',\n",
       " '_id_str',\n",
       " '_js_dist',\n",
       " '_traverse',\n",
       " '_traverse_ids',\n",
       " '_traverse_with_paths',\n",
       " 'to_plotly_json']"
      ]
     },
     "execution_count": 7,
     "metadata": {},
     "output_type": "execute_result"
    }
   ],
   "source": [
    "dir(dl.Map)"
   ]
  },
  {
   "cell_type": "code",
   "execution_count": 6,
   "metadata": {},
   "outputs": [
    {
     "name": "stdout",
     "output_type": "stream",
     "text": [
      "Object `dl.set_map_bounds` not found.\n"
     ]
    }
   ],
   "source": []
  },
  {
   "cell_type": "code",
   "execution_count": null,
   "metadata": {},
   "outputs": [],
   "source": []
  }
 ],
 "metadata": {
  "kernelspec": {
   "display_name": "Python 3",
   "language": "python",
   "name": "python3"
  },
  "language_info": {
   "codemirror_mode": {
    "name": "ipython",
    "version": 3
   },
   "file_extension": ".py",
   "mimetype": "text/x-python",
   "name": "python",
   "nbconvert_exporter": "python",
   "pygments_lexer": "ipython3",
   "version": "3.8.3"
  }
 },
 "nbformat": 4,
 "nbformat_minor": 4
}
